{
 "cells": [
  {
   "cell_type": "markdown",
   "id": "08413061",
   "metadata": {},
   "source": [
    "# badminton strokes namely forehand and backhand prediction "
   ]
  },
  {
   "cell_type": "markdown",
   "id": "d062f4c6",
   "metadata": {},
   "source": [
    "### Importing Libraries"
   ]
  },
  {
   "cell_type": "code",
   "execution_count": 13,
   "id": "1347c545",
   "metadata": {},
   "outputs": [],
   "source": [
    "import pandas as pd\n",
    "import numpy as np\n",
    "from sklearn.linear_model import LogisticRegression\n",
    "from sklearn.tree import DecisionTreeClassifier\n",
    "from sklearn.neighbors import KNeighborsClassifier\n",
    "from sklearn.ensemble import RandomForestClassifier\n",
    "from sklearn.svm import SVC\n",
    "from sklearn.discriminant_analysis import LinearDiscriminantAnalysis\n",
    "from sklearn.naive_bayes import GaussianNB\n",
    "import matplotlib.pyplot as plt\n",
    "import seaborn as sns\n",
    "from sklearn.metrics import precision_score,recall_score,accuracy_score"
   ]
  },
  {
   "cell_type": "markdown",
   "id": "6650c350",
   "metadata": {},
   "source": [
    "### Reading the data"
   ]
  },
  {
   "cell_type": "code",
   "execution_count": 14,
   "id": "4d122e1a",
   "metadata": {},
   "outputs": [
    {
     "data": {
      "text/html": [
       "<div>\n",
       "<style scoped>\n",
       "    .dataframe tbody tr th:only-of-type {\n",
       "        vertical-align: middle;\n",
       "    }\n",
       "\n",
       "    .dataframe tbody tr th {\n",
       "        vertical-align: top;\n",
       "    }\n",
       "\n",
       "    .dataframe thead th {\n",
       "        text-align: right;\n",
       "    }\n",
       "</style>\n",
       "<table border=\"1\" class=\"dataframe\">\n",
       "  <thead>\n",
       "    <tr style=\"text-align: right;\">\n",
       "      <th></th>\n",
       "      <th>Accelerometer_1 X axis</th>\n",
       "      <th>Accelerometer_1 Y axis</th>\n",
       "      <th>Accelerometer_1 Z axis</th>\n",
       "      <th>Gyroscope_1 X axis</th>\n",
       "      <th>Gyroscope_1 Y axis</th>\n",
       "      <th>Gyroscope_1 Z axis</th>\n",
       "      <th>Accelerometer_2 X axis</th>\n",
       "      <th>Accelerometer_2 Y axis</th>\n",
       "      <th>Accelerometer_2 Z axis</th>\n",
       "      <th>Gyroscope2_X axis</th>\n",
       "      <th>Gyroscope2_Y axis</th>\n",
       "      <th>Gyroscope2_Z axis</th>\n",
       "      <th>Class</th>\n",
       "    </tr>\n",
       "  </thead>\n",
       "  <tbody>\n",
       "    <tr>\n",
       "      <th>0</th>\n",
       "      <td>0.21</td>\n",
       "      <td>0.93</td>\n",
       "      <td>0.14</td>\n",
       "      <td>3.96</td>\n",
       "      <td>0.93</td>\n",
       "      <td>3.64</td>\n",
       "      <td>0.46</td>\n",
       "      <td>0.13</td>\n",
       "      <td>3.44</td>\n",
       "      <td>3.94</td>\n",
       "      <td>2.98</td>\n",
       "      <td>1.64</td>\n",
       "      <td>0</td>\n",
       "    </tr>\n",
       "    <tr>\n",
       "      <th>1</th>\n",
       "      <td>0.02</td>\n",
       "      <td>0.96</td>\n",
       "      <td>0.12</td>\n",
       "      <td>3.96</td>\n",
       "      <td>0.99</td>\n",
       "      <td>3.48</td>\n",
       "      <td>0.68</td>\n",
       "      <td>3.71</td>\n",
       "      <td>0.14</td>\n",
       "      <td>3.94</td>\n",
       "      <td>2.93</td>\n",
       "      <td>1.38</td>\n",
       "      <td>0</td>\n",
       "    </tr>\n",
       "    <tr>\n",
       "      <th>2</th>\n",
       "      <td>3.90</td>\n",
       "      <td>0.96</td>\n",
       "      <td>3.99</td>\n",
       "      <td>3.96</td>\n",
       "      <td>1.06</td>\n",
       "      <td>3.44</td>\n",
       "      <td>0.73</td>\n",
       "      <td>3.68</td>\n",
       "      <td>0.38</td>\n",
       "      <td>3.94</td>\n",
       "      <td>3.08</td>\n",
       "      <td>1.29</td>\n",
       "      <td>0</td>\n",
       "    </tr>\n",
       "    <tr>\n",
       "      <th>3</th>\n",
       "      <td>3.80</td>\n",
       "      <td>0.96</td>\n",
       "      <td>3.85</td>\n",
       "      <td>3.96</td>\n",
       "      <td>1.16</td>\n",
       "      <td>3.42</td>\n",
       "      <td>0.51</td>\n",
       "      <td>3.98</td>\n",
       "      <td>0.85</td>\n",
       "      <td>3.94</td>\n",
       "      <td>2.93</td>\n",
       "      <td>1.20</td>\n",
       "      <td>0</td>\n",
       "    </tr>\n",
       "    <tr>\n",
       "      <th>4</th>\n",
       "      <td>3.73</td>\n",
       "      <td>0.89</td>\n",
       "      <td>3.67</td>\n",
       "      <td>3.96</td>\n",
       "      <td>1.03</td>\n",
       "      <td>3.44</td>\n",
       "      <td>0.46</td>\n",
       "      <td>3.72</td>\n",
       "      <td>0.72</td>\n",
       "      <td>3.94</td>\n",
       "      <td>3.14</td>\n",
       "      <td>1.19</td>\n",
       "      <td>0</td>\n",
       "    </tr>\n",
       "  </tbody>\n",
       "</table>\n",
       "</div>"
      ],
      "text/plain": [
       "    Accelerometer_1 X axis   Accelerometer_1 Y axis   Accelerometer_1 Z axis  \\\n",
       "0                     0.21                     0.93                     0.14   \n",
       "1                     0.02                     0.96                     0.12   \n",
       "2                     3.90                     0.96                     3.99   \n",
       "3                     3.80                     0.96                     3.85   \n",
       "4                     3.73                     0.89                     3.67   \n",
       "\n",
       "   Gyroscope_1 X axis  Gyroscope_1 Y axis  Gyroscope_1 Z axis  \\\n",
       "0                3.96                0.93                3.64   \n",
       "1                3.96                0.99                3.48   \n",
       "2                3.96                1.06                3.44   \n",
       "3                3.96                1.16                3.42   \n",
       "4                3.96                1.03                3.44   \n",
       "\n",
       "    Accelerometer_2 X axis   Accelerometer_2 Y axis   Accelerometer_2 Z axis  \\\n",
       "0                     0.46                     0.13                     3.44   \n",
       "1                     0.68                     3.71                     0.14   \n",
       "2                     0.73                     3.68                     0.38   \n",
       "3                     0.51                     3.98                     0.85   \n",
       "4                     0.46                     3.72                     0.72   \n",
       "\n",
       "   Gyroscope2_X axis  Gyroscope2_Y axis  Gyroscope2_Z axis  Class  \n",
       "0               3.94               2.98               1.64      0  \n",
       "1               3.94               2.93               1.38      0  \n",
       "2               3.94               3.08               1.29      0  \n",
       "3               3.94               2.93               1.20      0  \n",
       "4               3.94               3.14               1.19      0  "
      ]
     },
     "execution_count": 14,
     "metadata": {},
     "output_type": "execute_result"
    }
   ],
   "source": [
    "data = pd.read_excel('Complete CSV Data.xlsx')\n",
    "data.head()"
   ]
  },
  {
   "cell_type": "markdown",
   "id": "38ebfc1f",
   "metadata": {},
   "source": [
    "### Exploratory data analysis"
   ]
  },
  {
   "cell_type": "code",
   "execution_count": 15,
   "id": "455c5f66",
   "metadata": {},
   "outputs": [
    {
     "data": {
      "text/plain": [
       " Accelerometer_1 X axis    0\n",
       " Accelerometer_1 Y axis    0\n",
       " Accelerometer_1 Z axis    0\n",
       "Gyroscope_1 X axis         0\n",
       "Gyroscope_1 Y axis         0\n",
       "Gyroscope_1 Z axis         0\n",
       " Accelerometer_2 X axis    0\n",
       " Accelerometer_2 Y axis    0\n",
       " Accelerometer_2 Z axis    0\n",
       "Gyroscope2_X axis          0\n",
       "Gyroscope2_Y axis          0\n",
       "Gyroscope2_Z axis          0\n",
       "Class                      0\n",
       "dtype: int64"
      ]
     },
     "execution_count": 15,
     "metadata": {},
     "output_type": "execute_result"
    }
   ],
   "source": [
    "# let's check if there us any missing values in the dataset\n",
    "data.isnull().sum()"
   ]
  },
  {
   "cell_type": "code",
   "execution_count": 16,
   "id": "b95f2022",
   "metadata": {},
   "outputs": [],
   "source": [
    "data.dropna(inplace = True)"
   ]
  },
  {
   "cell_type": "code",
   "execution_count": 17,
   "id": "a86f2012",
   "metadata": {},
   "outputs": [
    {
     "data": {
      "text/plain": [
       " Accelerometer_1 X axis    0\n",
       " Accelerometer_1 Y axis    0\n",
       " Accelerometer_1 Z axis    0\n",
       "Gyroscope_1 X axis         0\n",
       "Gyroscope_1 Y axis         0\n",
       "Gyroscope_1 Z axis         0\n",
       " Accelerometer_2 X axis    0\n",
       " Accelerometer_2 Y axis    0\n",
       " Accelerometer_2 Z axis    0\n",
       "Gyroscope2_X axis          0\n",
       "Gyroscope2_Y axis          0\n",
       "Gyroscope2_Z axis          0\n",
       "Class                      0\n",
       "dtype: int64"
      ]
     },
     "execution_count": 17,
     "metadata": {},
     "output_type": "execute_result"
    }
   ],
   "source": [
    "data.isnull().sum()"
   ]
  },
  {
   "cell_type": "markdown",
   "id": "ef04674c",
   "metadata": {},
   "source": [
    "there is no missing values in the dataset"
   ]
  },
  {
   "cell_type": "code",
   "execution_count": 18,
   "id": "b090855f",
   "metadata": {},
   "outputs": [
    {
     "data": {
      "text/plain": [
       "<AxesSubplot:>"
      ]
     },
     "execution_count": 18,
     "metadata": {},
     "output_type": "execute_result"
    },
    {
     "data": {
      "image/png": "[encoded data removed]",
      "text/plain": [
       "<Figure size 1440x576 with 1 Axes>"
      ]
     },
     "metadata": {
      "needs_background": "light"
     },
     "output_type": "display_data"
    }
   ],
   "source": [
    "# lets draw the outliers from our data using box plots\n",
    "plt.figure(figsize=(20,8))\n",
    "sns.boxplot(data=data)"
   ]
  },
  {
   "cell_type": "markdown",
   "id": "d910d295",
   "metadata": {},
   "source": [
    "We detected some outliers but we will not remove them, the purpose of this analysis was just to know if we have any outliers"
   ]
  },
  {
   "cell_type": "code",
   "execution_count": 19,
   "id": "3ec700d7",
   "metadata": {},
   "outputs": [
    {
     "data": {
      "text/plain": [
       "<bound method DataFrame.info of        Accelerometer_1 X axis   Accelerometer_1 Y axis  \\\n",
       "0                        0.21                     0.93   \n",
       "1                        0.02                     0.96   \n",
       "2                        3.90                     0.96   \n",
       "3                        3.80                     0.96   \n",
       "4                        3.73                     0.89   \n",
       "...                       ...                      ...   \n",
       "9995                     0.82                     3.47   \n",
       "9996                     0.79                     3.50   \n",
       "9997                     0.75                     3.48   \n",
       "9998                     0.74                     3.48   \n",
       "9999                     0.75                     3.50   \n",
       "\n",
       "       Accelerometer_1 Z axis  Gyroscope_1 X axis  Gyroscope_1 Y axis  \\\n",
       "0                        0.14                3.96                0.93   \n",
       "1                        0.12                3.96                0.99   \n",
       "2                        3.99                3.96                1.06   \n",
       "3                        3.85                3.96                1.16   \n",
       "4                        3.67                3.96                1.03   \n",
       "...                       ...                 ...                 ...   \n",
       "9995                     0.45                3.97                3.68   \n",
       "9996                     0.37                3.97                3.86   \n",
       "9997                     0.37                3.97                3.90   \n",
       "9998                     0.42                3.97                3.83   \n",
       "9999                     0.48                3.97                3.77   \n",
       "\n",
       "      Gyroscope_1 Z axis   Accelerometer_2 X axis   Accelerometer_2 Y axis  \\\n",
       "0                   3.64                     0.46                     0.13   \n",
       "1                   3.48                     0.68                     3.71   \n",
       "2                   3.44                     0.73                     3.68   \n",
       "3                   3.42                     0.51                     3.98   \n",
       "4                   3.44                     0.46                     3.72   \n",
       "...                  ...                      ...                      ...   \n",
       "9995                0.20                     3.06                     0.23   \n",
       "9996                0.19                     3.09                     0.19   \n",
       "9997                0.18                     3.07                     0.06   \n",
       "9998                0.22                     3.02                     3.99   \n",
       "9999                0.18                     2.96                     3.94   \n",
       "\n",
       "       Accelerometer_2 Z axis  Gyroscope2_X axis  Gyroscope2_Y axis  \\\n",
       "0                        3.44               3.94               2.98   \n",
       "1                        0.14               3.94               2.93   \n",
       "2                        0.38               3.94               3.08   \n",
       "3                        0.85               3.94               2.93   \n",
       "4                        0.72               3.94               3.14   \n",
       "...                       ...                ...                ...   \n",
       "9995                     0.24               3.94               0.33   \n",
       "9996                     0.24               3.94               0.21   \n",
       "9997                     0.36               3.94               0.26   \n",
       "9998                     0.32               3.94               0.47   \n",
       "9999                     0.42               3.94               0.36   \n",
       "\n",
       "      Gyroscope2_Z axis  Class  \n",
       "0                  1.64      0  \n",
       "1                  1.38      0  \n",
       "2                  1.29      0  \n",
       "3                  1.20      0  \n",
       "4                  1.19      0  \n",
       "...                 ...    ...  \n",
       "9995               3.99      3  \n",
       "9996               0.07      3  \n",
       "9997               0.05      3  \n",
       "9998               3.98      3  \n",
       "9999               3.91      3  \n",
       "\n",
       "[10000 rows x 13 columns]>"
      ]
     },
     "execution_count": 19,
     "metadata": {},
     "output_type": "execute_result"
    }
   ],
   "source": [
    "# statistical information of the data\n",
    "data.info"
   ]
  },
  {
   "cell_type": "code",
   "execution_count": 20,
   "id": "802cd1c7",
   "metadata": {},
   "outputs": [
    {
     "data": {
      "text/plain": [
       "array([0, 1, 2, 3], dtype=int64)"
      ]
     },
     "execution_count": 20,
     "metadata": {},
     "output_type": "execute_result"
    }
   ],
   "source": [
    "data['Class'].unique()"
   ]
  },
  {
   "cell_type": "markdown",
   "id": "ef1d1cd1",
   "metadata": {},
   "source": [
    "- the class feature have values (forehand and backhand)\n",
    "- we have to convert these values into numberical values\n",
    "- because machine learning models don't understand categorical values"
   ]
  },
  {
   "cell_type": "code",
   "execution_count": 21,
   "id": "da39fd26",
   "metadata": {},
   "outputs": [],
   "source": [
    "# # creating a dict file \n",
    "# Class = {'forehand': 1,'backhand': 0}\n",
    "# # traversing through dataframe\n",
    "# data.Class = [Class[item] for item in data.Class]\n",
    "# data.head()"
   ]
  },
  {
   "cell_type": "markdown",
   "id": "cd3243c8",
   "metadata": {},
   "source": [
    "\n"
   ]
  },
  {
   "cell_type": "markdown",
   "id": "9887f90d",
   "metadata": {},
   "source": [
    "#### Split the data\n",
    "\n",
    "this is the process where we will split the data into test and train sets\n",
    "- train data will be used to train the model\n",
    "- test data will be used to test the model"
   ]
  },
  {
   "cell_type": "code",
   "execution_count": 22,
   "id": "cb438288",
   "metadata": {},
   "outputs": [],
   "source": [
    "from sklearn.model_selection import train_test_split"
   ]
  },
  {
   "cell_type": "code",
   "execution_count": 23,
   "id": "e992de50",
   "metadata": {},
   "outputs": [],
   "source": [
    "X = data.drop('Class', axis = 1)\n",
    "y = data['Class']"
   ]
  },
  {
   "cell_type": "code",
   "execution_count": 24,
   "id": "53e08739",
   "metadata": {},
   "outputs": [],
   "source": [
    "X_train, X_test, y_train, y_test = train_test_split(\n",
    "    X, y, test_size=0.2,random_state=0)"
   ]
  },
  {
   "cell_type": "markdown",
   "id": "36a2797b",
   "metadata": {},
   "source": [
    "### Machine learning \n",
    "we will train the following machine learning classification models\n",
    "- Logistic Regression\n",
    "- Decision Tree Classifiers\n",
    "- Random Forests\n",
    "- Support Vector Machines\n",
    "- K-Nearest Neighbors\n",
    "- Gaussian Naive Bayes\n",
    "- LinearDiscriminantAnalysis"
   ]
  },
  {
   "cell_type": "code",
   "execution_count": 29,
   "id": "55c040e3",
   "metadata": {},
   "outputs": [],
   "source": [
    "df_perf_metrics = pd.DataFrame(columns=[\n",
    "    'Model', 'Accuracy_Training_Set', 'Accuracy_Test_Set', 'Precision',\n",
    "    'Recall', 'f1_score'\n",
    "])\n",
    "models_trained_list = []\n",
    "\n",
    "\n",
    "def get_perf_metrics(model, i):\n",
    "    # model name\n",
    "    model_name = type(model).__name__\n",
    "    print(\"Training {} model...\".format(model_name))\n",
    "    # Fitting of model\n",
    "    model.fit(X_train, y_train)\n",
    "    print(\"Completed {} model training.\".format(model_name))\n",
    "    # Predictions\n",
    "    y_pred = model.predict(X_test)\n",
    "    # Add to ith row of dataframe - metrics\n",
    "\n",
    "    df_perf_metrics.loc[i] = [\n",
    "        model_name,\n",
    "        model.score(X_train, y_train),\n",
    "        model.score(X_test, y_test),\n",
    "        precision_score(y_test, y_pred,pos_label='positive',\n",
    "                                           average='micro'),\n",
    "        recall_score(y_test, y_pred,pos_label='positive',\n",
    "                                           average='micro'),\n",
    "        f1_score(y_test, y_pred,pos_label='positive',\n",
    "                                           average='micro'),\n",
    "    ]\n",
    "   \n",
    "    print(\"Completed {} model's performance assessment.\".format(model_name))"
   ]
  },
  {
   "cell_type": "code",
   "execution_count": 30,
   "id": "b954903a",
   "metadata": {},
   "outputs": [],
   "source": [
    "# the model list\n",
    "models_list = [LogisticRegression(),\n",
    "               DecisionTreeClassifier(),\n",
    "               RandomForestClassifier(),\n",
    "               SVC(),\n",
    "               KNeighborsClassifier(),\n",
    "               GaussianNB(),LinearDiscriminantAnalysis()\n",
    "               ]"
   ]
  },
  {
   "cell_type": "code",
   "execution_count": 31,
   "id": "b5fd624d",
   "metadata": {},
   "outputs": [
    {
     "name": "stdout",
     "output_type": "stream",
     "text": [
      "Training LogisticRegression model...\n"
     ]
    },
    {
     "name": "stderr",
     "output_type": "stream",
     "text": [
      "C:\\Users\\hp\\AppData\\Roaming\\Python\\Python38\\site-packages\\sklearn\\linear_model\\_logistic.py:814: ConvergenceWarning: lbfgs failed to converge (status=1):\n",
      "STOP: TOTAL NO. of ITERATIONS REACHED LIMIT.\n",
      "\n",
      "Increase the number of iterations (max_iter) or scale the data as shown in:\n",
      "    https://scikit-learn.org/stable/modules/preprocessing.html\n",
      "Please also refer to the documentation for alternative solver options:\n",
      "    https://scikit-learn.org/stable/modules/linear_model.html#logistic-regression\n",
      "  n_iter_i = _check_optimize_result(\n",
      "C:\\Users\\hp\\AppData\\Roaming\\Python\\Python38\\site-packages\\sklearn\\metrics\\_classification.py:1370: UserWarning: Note that pos_label (set to 'positive') is ignored when average != 'binary' (got 'micro'). You may use labels=[pos_label] to specify a single positive class.\n",
      "  warnings.warn(\n",
      "C:\\Users\\hp\\AppData\\Roaming\\Python\\Python38\\site-packages\\sklearn\\metrics\\_classification.py:1370: UserWarning: Note that pos_label (set to 'positive') is ignored when average != 'binary' (got 'micro'). You may use labels=[pos_label] to specify a single positive class.\n",
      "  warnings.warn(\n",
      "C:\\Users\\hp\\AppData\\Roaming\\Python\\Python38\\site-packages\\sklearn\\metrics\\_classification.py:1370: UserWarning: Note that pos_label (set to 'positive') is ignored when average != 'binary' (got 'micro'). You may use labels=[pos_label] to specify a single positive class.\n",
      "  warnings.warn(\n",
      "C:\\Users\\hp\\AppData\\Roaming\\Python\\Python38\\site-packages\\sklearn\\metrics\\_classification.py:1370: UserWarning: Note that pos_label (set to 'positive') is ignored when average != 'binary' (got 'micro'). You may use labels=[pos_label] to specify a single positive class.\n",
      "  warnings.warn(\n",
      "C:\\Users\\hp\\AppData\\Roaming\\Python\\Python38\\site-packages\\sklearn\\metrics\\_classification.py:1370: UserWarning: Note that pos_label (set to 'positive') is ignored when average != 'binary' (got 'micro'). You may use labels=[pos_label] to specify a single positive class.\n",
      "  warnings.warn(\n",
      "C:\\Users\\hp\\AppData\\Roaming\\Python\\Python38\\site-packages\\sklearn\\metrics\\_classification.py:1370: UserWarning: Note that pos_label (set to 'positive') is ignored when average != 'binary' (got 'micro'). You may use labels=[pos_label] to specify a single positive class.\n",
      "  warnings.warn(\n"
     ]
    },
    {
     "name": "stdout",
     "output_type": "stream",
     "text": [
      "Completed LogisticRegression model training.\n",
      "Completed LogisticRegression model's performance assessment.\n",
      "Training DecisionTreeClassifier model...\n",
      "Completed DecisionTreeClassifier model training.\n",
      "Completed DecisionTreeClassifier model's performance assessment.\n",
      "Training RandomForestClassifier model...\n",
      "Completed RandomForestClassifier model training.\n"
     ]
    },
    {
     "name": "stderr",
     "output_type": "stream",
     "text": [
      "C:\\Users\\hp\\AppData\\Roaming\\Python\\Python38\\site-packages\\sklearn\\metrics\\_classification.py:1370: UserWarning: Note that pos_label (set to 'positive') is ignored when average != 'binary' (got 'micro'). You may use labels=[pos_label] to specify a single positive class.\n",
      "  warnings.warn(\n",
      "C:\\Users\\hp\\AppData\\Roaming\\Python\\Python38\\site-packages\\sklearn\\metrics\\_classification.py:1370: UserWarning: Note that pos_label (set to 'positive') is ignored when average != 'binary' (got 'micro'). You may use labels=[pos_label] to specify a single positive class.\n",
      "  warnings.warn(\n",
      "C:\\Users\\hp\\AppData\\Roaming\\Python\\Python38\\site-packages\\sklearn\\metrics\\_classification.py:1370: UserWarning: Note that pos_label (set to 'positive') is ignored when average != 'binary' (got 'micro'). You may use labels=[pos_label] to specify a single positive class.\n",
      "  warnings.warn(\n"
     ]
    },
    {
     "name": "stdout",
     "output_type": "stream",
     "text": [
      "Completed RandomForestClassifier model's performance assessment.\n",
      "Training SVC model...\n",
      "Completed SVC model training.\n"
     ]
    },
    {
     "name": "stderr",
     "output_type": "stream",
     "text": [
      "C:\\Users\\hp\\AppData\\Roaming\\Python\\Python38\\site-packages\\sklearn\\metrics\\_classification.py:1370: UserWarning: Note that pos_label (set to 'positive') is ignored when average != 'binary' (got 'micro'). You may use labels=[pos_label] to specify a single positive class.\n",
      "  warnings.warn(\n",
      "C:\\Users\\hp\\AppData\\Roaming\\Python\\Python38\\site-packages\\sklearn\\metrics\\_classification.py:1370: UserWarning: Note that pos_label (set to 'positive') is ignored when average != 'binary' (got 'micro'). You may use labels=[pos_label] to specify a single positive class.\n",
      "  warnings.warn(\n",
      "C:\\Users\\hp\\AppData\\Roaming\\Python\\Python38\\site-packages\\sklearn\\metrics\\_classification.py:1370: UserWarning: Note that pos_label (set to 'positive') is ignored when average != 'binary' (got 'micro'). You may use labels=[pos_label] to specify a single positive class.\n",
      "  warnings.warn(\n"
     ]
    },
    {
     "name": "stdout",
     "output_type": "stream",
     "text": [
      "Completed SVC model's performance assessment.\n",
      "Training KNeighborsClassifier model...\n",
      "Completed KNeighborsClassifier model training.\n"
     ]
    },
    {
     "name": "stderr",
     "output_type": "stream",
     "text": [
      "C:\\Users\\hp\\AppData\\Roaming\\Python\\Python38\\site-packages\\sklearn\\metrics\\_classification.py:1370: UserWarning: Note that pos_label (set to 'positive') is ignored when average != 'binary' (got 'micro'). You may use labels=[pos_label] to specify a single positive class.\n",
      "  warnings.warn(\n",
      "C:\\Users\\hp\\AppData\\Roaming\\Python\\Python38\\site-packages\\sklearn\\metrics\\_classification.py:1370: UserWarning: Note that pos_label (set to 'positive') is ignored when average != 'binary' (got 'micro'). You may use labels=[pos_label] to specify a single positive class.\n",
      "  warnings.warn(\n",
      "C:\\Users\\hp\\AppData\\Roaming\\Python\\Python38\\site-packages\\sklearn\\metrics\\_classification.py:1370: UserWarning: Note that pos_label (set to 'positive') is ignored when average != 'binary' (got 'micro'). You may use labels=[pos_label] to specify a single positive class.\n",
      "  warnings.warn(\n",
      "C:\\Users\\hp\\AppData\\Roaming\\Python\\Python38\\site-packages\\sklearn\\metrics\\_classification.py:1370: UserWarning: Note that pos_label (set to 'positive') is ignored when average != 'binary' (got 'micro'). You may use labels=[pos_label] to specify a single positive class.\n",
      "  warnings.warn(\n",
      "C:\\Users\\hp\\AppData\\Roaming\\Python\\Python38\\site-packages\\sklearn\\metrics\\_classification.py:1370: UserWarning: Note that pos_label (set to 'positive') is ignored when average != 'binary' (got 'micro'). You may use labels=[pos_label] to specify a single positive class.\n",
      "  warnings.warn(\n",
      "C:\\Users\\hp\\AppData\\Roaming\\Python\\Python38\\site-packages\\sklearn\\metrics\\_classification.py:1370: UserWarning: Note that pos_label (set to 'positive') is ignored when average != 'binary' (got 'micro'). You may use labels=[pos_label] to specify a single positive class.\n",
      "  warnings.warn(\n"
     ]
    },
    {
     "name": "stdout",
     "output_type": "stream",
     "text": [
      "Completed KNeighborsClassifier model's performance assessment.\n",
      "Training GaussianNB model...\n",
      "Completed GaussianNB model training.\n",
      "Completed GaussianNB model's performance assessment.\n",
      "Training LinearDiscriminantAnalysis model...\n",
      "Completed LinearDiscriminantAnalysis model training.\n",
      "Completed LinearDiscriminantAnalysis model's performance assessment.\n"
     ]
    },
    {
     "name": "stderr",
     "output_type": "stream",
     "text": [
      "C:\\Users\\hp\\AppData\\Roaming\\Python\\Python38\\site-packages\\sklearn\\metrics\\_classification.py:1370: UserWarning: Note that pos_label (set to 'positive') is ignored when average != 'binary' (got 'micro'). You may use labels=[pos_label] to specify a single positive class.\n",
      "  warnings.warn(\n",
      "C:\\Users\\hp\\AppData\\Roaming\\Python\\Python38\\site-packages\\sklearn\\metrics\\_classification.py:1370: UserWarning: Note that pos_label (set to 'positive') is ignored when average != 'binary' (got 'micro'). You may use labels=[pos_label] to specify a single positive class.\n",
      "  warnings.warn(\n",
      "C:\\Users\\hp\\AppData\\Roaming\\Python\\Python38\\site-packages\\sklearn\\metrics\\_classification.py:1370: UserWarning: Note that pos_label (set to 'positive') is ignored when average != 'binary' (got 'micro'). You may use labels=[pos_label] to specify a single positive class.\n",
      "  warnings.warn(\n"
     ]
    }
   ],
   "source": [
    "from sklearn.metrics import r2_score,f1_score\n",
    "for n, model in enumerate(models_list):\n",
    "    get_perf_metrics(model, n)"
   ]
  },
  {
   "cell_type": "code",
   "execution_count": 32,
   "id": "8c122f5d",
   "metadata": {},
   "outputs": [
    {
     "data": {
      "text/html": [
       "<div>\n",
       "<style scoped>\n",
       "    .dataframe tbody tr th:only-of-type {\n",
       "        vertical-align: middle;\n",
       "    }\n",
       "\n",
       "    .dataframe tbody tr th {\n",
       "        vertical-align: top;\n",
       "    }\n",
       "\n",
       "    .dataframe thead th {\n",
       "        text-align: right;\n",
       "    }\n",
       "</style>\n",
       "<table border=\"1\" class=\"dataframe\">\n",
       "  <thead>\n",
       "    <tr style=\"text-align: right;\">\n",
       "      <th></th>\n",
       "      <th>Model</th>\n",
       "      <th>Accuracy_Training_Set</th>\n",
       "      <th>Accuracy_Test_Set</th>\n",
       "      <th>Precision</th>\n",
       "      <th>Recall</th>\n",
       "      <th>f1_score</th>\n",
       "    </tr>\n",
       "  </thead>\n",
       "  <tbody>\n",
       "    <tr>\n",
       "      <th>0</th>\n",
       "      <td>LogisticRegression</td>\n",
       "      <td>0.589625</td>\n",
       "      <td>0.5695</td>\n",
       "      <td>0.5695</td>\n",
       "      <td>0.5695</td>\n",
       "      <td>0.5695</td>\n",
       "    </tr>\n",
       "    <tr>\n",
       "      <th>1</th>\n",
       "      <td>DecisionTreeClassifier</td>\n",
       "      <td>1.000000</td>\n",
       "      <td>0.8650</td>\n",
       "      <td>0.8650</td>\n",
       "      <td>0.8650</td>\n",
       "      <td>0.8650</td>\n",
       "    </tr>\n",
       "    <tr>\n",
       "      <th>2</th>\n",
       "      <td>RandomForestClassifier</td>\n",
       "      <td>1.000000</td>\n",
       "      <td>0.9445</td>\n",
       "      <td>0.9445</td>\n",
       "      <td>0.9445</td>\n",
       "      <td>0.9445</td>\n",
       "    </tr>\n",
       "    <tr>\n",
       "      <th>3</th>\n",
       "      <td>SVC</td>\n",
       "      <td>0.803250</td>\n",
       "      <td>0.7785</td>\n",
       "      <td>0.7785</td>\n",
       "      <td>0.7785</td>\n",
       "      <td>0.7785</td>\n",
       "    </tr>\n",
       "    <tr>\n",
       "      <th>4</th>\n",
       "      <td>KNeighborsClassifier</td>\n",
       "      <td>0.899125</td>\n",
       "      <td>0.8255</td>\n",
       "      <td>0.8255</td>\n",
       "      <td>0.8255</td>\n",
       "      <td>0.8255</td>\n",
       "    </tr>\n",
       "    <tr>\n",
       "      <th>5</th>\n",
       "      <td>GaussianNB</td>\n",
       "      <td>0.560250</td>\n",
       "      <td>0.5520</td>\n",
       "      <td>0.5520</td>\n",
       "      <td>0.5520</td>\n",
       "      <td>0.5520</td>\n",
       "    </tr>\n",
       "    <tr>\n",
       "      <th>6</th>\n",
       "      <td>LinearDiscriminantAnalysis</td>\n",
       "      <td>0.580875</td>\n",
       "      <td>0.5660</td>\n",
       "      <td>0.5660</td>\n",
       "      <td>0.5660</td>\n",
       "      <td>0.5660</td>\n",
       "    </tr>\n",
       "  </tbody>\n",
       "</table>\n",
       "</div>"
      ],
      "text/plain": [
       "                        Model  Accuracy_Training_Set  Accuracy_Test_Set  \\\n",
       "0          LogisticRegression               0.589625             0.5695   \n",
       "1      DecisionTreeClassifier               1.000000             0.8650   \n",
       "2      RandomForestClassifier               1.000000             0.9445   \n",
       "3                         SVC               0.803250             0.7785   \n",
       "4        KNeighborsClassifier               0.899125             0.8255   \n",
       "5                  GaussianNB               0.560250             0.5520   \n",
       "6  LinearDiscriminantAnalysis               0.580875             0.5660   \n",
       "\n",
       "   Precision  Recall  f1_score  \n",
       "0     0.5695  0.5695    0.5695  \n",
       "1     0.8650  0.8650    0.8650  \n",
       "2     0.9445  0.9445    0.9445  \n",
       "3     0.7785  0.7785    0.7785  \n",
       "4     0.8255  0.8255    0.8255  \n",
       "5     0.5520  0.5520    0.5520  \n",
       "6     0.5660  0.5660    0.5660  "
      ]
     },
     "execution_count": 32,
     "metadata": {},
     "output_type": "execute_result"
    }
   ],
   "source": [
    "df_perf_metrics"
   ]
  },
  {
   "cell_type": "markdown",
   "id": "3a2824d1",
   "metadata": {},
   "source": [
    "From the above table, we can see that \n",
    "- Random Forest performed very well by giving accuracy of 90% on testing data\n",
    "- we will now use parameters tuning to train Random Forest "
   ]
  },
  {
   "cell_type": "markdown",
   "id": "6061e74b",
   "metadata": {},
   "source": [
    "#### Tuning the RandomForestClassifier Model"
   ]
  },
  {
   "cell_type": "code",
   "execution_count": 33,
   "id": "9aa3e94d",
   "metadata": {},
   "outputs": [],
   "source": [
    "rfc = RandomForestClassifier()\n",
    "parameters = {\n",
    "    \"n_estimators\":[5,10,50,100,250],\n",
    "    \"max_depth\":[2,4,8,16,32,None]}"
   ]
  },
  {
   "cell_type": "code",
   "execution_count": 34,
   "id": "3d56bc55",
   "metadata": {},
   "outputs": [
    {
     "data": {
      "text/plain": [
       "GridSearchCV(cv=5, estimator=RandomForestClassifier(),\n",
       "             param_grid={'max_depth': [2, 4, 8, 16, 32, None],\n",
       "                         'n_estimators': [5, 10, 50, 100, 250]})"
      ]
     },
     "execution_count": 34,
     "metadata": {},
     "output_type": "execute_result"
    }
   ],
   "source": [
    "from sklearn.model_selection import GridSearchCV\n",
    "cv = GridSearchCV(rfc,parameters,cv=5)\n",
    "cv.fit(X_train,y_train.values.ravel())"
   ]
  },
  {
   "cell_type": "code",
   "execution_count": 35,
   "id": "c5ba9b4a",
   "metadata": {},
   "outputs": [],
   "source": [
    "def display(results):\n",
    "    print(f'Best parameters are: {results.best_params_}')\n",
    "    print(\"\\n\")\n",
    "    mean_score = results.cv_results_['mean_test_score']\n",
    "    std_score = results.cv_results_['std_test_score']\n",
    "    params = results.cv_results_['params']\n",
    "    for mean,std,params in zip(mean_score,std_score,params):\n",
    "        print(f'{round(mean,3)} + or -{round(std,3)} for the {params}')"
   ]
  },
  {
   "cell_type": "code",
   "execution_count": 36,
   "id": "56840820",
   "metadata": {},
   "outputs": [
    {
     "name": "stdout",
     "output_type": "stream",
     "text": [
      "Best parameters are: {'max_depth': 32, 'n_estimators': 100}\n",
      "\n",
      "\n",
      "0.631 + or -0.026 for the {'max_depth': 2, 'n_estimators': 5}\n",
      "0.692 + or -0.008 for the {'max_depth': 2, 'n_estimators': 10}\n",
      "0.72 + or -0.023 for the {'max_depth': 2, 'n_estimators': 50}\n",
      "0.721 + or -0.014 for the {'max_depth': 2, 'n_estimators': 100}\n",
      "0.725 + or -0.011 for the {'max_depth': 2, 'n_estimators': 250}\n",
      "0.728 + or -0.016 for the {'max_depth': 4, 'n_estimators': 5}\n",
      "0.773 + or -0.012 for the {'max_depth': 4, 'n_estimators': 10}\n",
      "0.795 + or -0.013 for the {'max_depth': 4, 'n_estimators': 50}\n",
      "0.806 + or -0.009 for the {'max_depth': 4, 'n_estimators': 100}\n",
      "0.812 + or -0.006 for the {'max_depth': 4, 'n_estimators': 250}\n",
      "0.865 + or -0.016 for the {'max_depth': 8, 'n_estimators': 5}\n",
      "0.888 + or -0.01 for the {'max_depth': 8, 'n_estimators': 10}\n",
      "0.898 + or -0.01 for the {'max_depth': 8, 'n_estimators': 50}\n",
      "0.9 + or -0.008 for the {'max_depth': 8, 'n_estimators': 100}\n",
      "0.899 + or -0.007 for the {'max_depth': 8, 'n_estimators': 250}\n",
      "0.896 + or -0.01 for the {'max_depth': 16, 'n_estimators': 5}\n",
      "0.926 + or -0.008 for the {'max_depth': 16, 'n_estimators': 10}\n",
      "0.942 + or -0.005 for the {'max_depth': 16, 'n_estimators': 50}\n",
      "0.942 + or -0.005 for the {'max_depth': 16, 'n_estimators': 100}\n",
      "0.943 + or -0.005 for the {'max_depth': 16, 'n_estimators': 250}\n",
      "0.902 + or -0.011 for the {'max_depth': 32, 'n_estimators': 5}\n",
      "0.923 + or -0.01 for the {'max_depth': 32, 'n_estimators': 10}\n",
      "0.941 + or -0.008 for the {'max_depth': 32, 'n_estimators': 50}\n",
      "0.945 + or -0.006 for the {'max_depth': 32, 'n_estimators': 100}\n",
      "0.945 + or -0.005 for the {'max_depth': 32, 'n_estimators': 250}\n",
      "0.9 + or -0.01 for the {'max_depth': None, 'n_estimators': 5}\n",
      "0.928 + or -0.008 for the {'max_depth': None, 'n_estimators': 10}\n",
      "0.938 + or -0.005 for the {'max_depth': None, 'n_estimators': 50}\n",
      "0.945 + or -0.006 for the {'max_depth': None, 'n_estimators': 100}\n",
      "0.944 + or -0.004 for the {'max_depth': None, 'n_estimators': 250}\n"
     ]
    }
   ],
   "source": [
    "display(cv)"
   ]
  },
  {
   "cell_type": "code",
   "execution_count": 42,
   "id": "d3de3440",
   "metadata": {},
   "outputs": [
    {
     "name": "stdout",
     "output_type": "stream",
     "text": [
      "Accuracy:  0.9395\n",
      "Precision:  0.9395\n",
      "Recall:  0.9395\n",
      "f1-score:  0.9395\n"
     ]
    },
    {
     "name": "stderr",
     "output_type": "stream",
     "text": [
      "C:\\Users\\hp\\AppData\\Roaming\\Python\\Python38\\site-packages\\sklearn\\metrics\\_classification.py:1370: UserWarning: Note that pos_label (set to 'positive') is ignored when average != 'binary' (got 'micro'). You may use labels=[pos_label] to specify a single positive class.\n",
      "  warnings.warn(\n",
      "C:\\Users\\hp\\AppData\\Roaming\\Python\\Python38\\site-packages\\sklearn\\metrics\\_classification.py:1370: UserWarning: Note that pos_label (set to 'positive') is ignored when average != 'binary' (got 'micro'). You may use labels=[pos_label] to specify a single positive class.\n",
      "  warnings.warn(\n",
      "C:\\Users\\hp\\AppData\\Roaming\\Python\\Python38\\site-packages\\sklearn\\metrics\\_classification.py:1370: UserWarning: Note that pos_label (set to 'positive') is ignored when average != 'binary' (got 'micro'). You may use labels=[pos_label] to specify a single positive class.\n",
      "  warnings.warn(\n"
     ]
    }
   ],
   "source": [
    "model = cv.best_estimator_\n",
    "y_pred = model.predict(X_test)\n",
    "print('Accuracy: ', accuracy_score(y_test, y_pred))\n",
    "print('Precision: ', precision_score(y_test, y_pred, pos_label='positive', average='micro'))\n",
    "print('Recall: ', recall_score(y_test, y_pred, pos_label='positive', average='micro'))\n",
    "print('f1-score: ', f1_score(y_test, y_pred, pos_label='positive', average='micro'))"
   ]
  },
  {
   "cell_type": "code",
   "execution_count": 44,
   "id": "25dc9bb1",
   "metadata": {},
   "outputs": [
    {
     "name": "stdout",
     "output_type": "stream",
     "text": [
      "Training RandomForestClassifier()\n",
      "Completed RandomForestClassifier()\n",
      "Completed RandomForestClassifier() model's performance assessment.\n"
     ]
    },
    {
     "name": "stderr",
     "output_type": "stream",
     "text": [
      "C:\\Users\\hp\\AppData\\Roaming\\Python\\Python38\\site-packages\\sklearn\\metrics\\_classification.py:1370: UserWarning: Note that pos_label (set to 'positive') is ignored when average != 'binary' (got 'micro'). You may use labels=[pos_label] to specify a single positive class.\n",
      "  warnings.warn(\n",
      "C:\\Users\\hp\\AppData\\Roaming\\Python\\Python38\\site-packages\\sklearn\\metrics\\_classification.py:1370: UserWarning: Note that pos_label (set to 'positive') is ignored when average != 'binary' (got 'micro'). You may use labels=[pos_label] to specify a single positive class.\n",
      "  warnings.warn(\n",
      "C:\\Users\\hp\\AppData\\Roaming\\Python\\Python38\\site-packages\\sklearn\\metrics\\_classification.py:1370: UserWarning: Note that pos_label (set to 'positive') is ignored when average != 'binary' (got 'micro'). You may use labels=[pos_label] to specify a single positive class.\n",
      "  warnings.warn(\n"
     ]
    }
   ],
   "source": [
    "df1_perf_metrics = pd.DataFrame(columns=[\n",
    "    'Model', 'Accuracy_Training_Set', 'Accuracy_Test_Set', 'Precision',\n",
    "    'Recall', 'f1_score'\n",
    "])\n",
    "\n",
    "def get_perf_metrics_t(model):\n",
    "    model = cv.best_estimator_\n",
    "    model_name =RandomForestClassifier()\n",
    "    \n",
    "    print('Training RandomForestClassifier()')\n",
    "    model.fit(X_train, y_train)\n",
    "    print('Completed RandomForestClassifier()')\n",
    "    y_pred = model.predict(X_test)\n",
    "    \n",
    "    df1_perf_metrics.loc[0] = [\n",
    "        model_name,\n",
    "        model.score(X_train, y_train),\n",
    "        model.score(X_test, y_test),\n",
    "        precision_score(y_test, y_pred, pos_label='positive', average='micro'),\n",
    "        recall_score(y_test, y_pred, pos_label='positive', average='micro'),\n",
    "        f1_score(y_test, y_pred, pos_label='positive', average='micro'),\n",
    "    ]\n",
    "    \n",
    "    print(\"Completed RandomForestClassifier() model's performance assessment.\")\n",
    "\n",
    "get_perf_metrics_t(model)"
   ]
  },
  {
   "cell_type": "code",
   "execution_count": 45,
   "id": "60bca176",
   "metadata": {},
   "outputs": [
    {
     "data": {
      "text/html": [
       "<div>\n",
       "<style scoped>\n",
       "    .dataframe tbody tr th:only-of-type {\n",
       "        vertical-align: middle;\n",
       "    }\n",
       "\n",
       "    .dataframe tbody tr th {\n",
       "        vertical-align: top;\n",
       "    }\n",
       "\n",
       "    .dataframe thead th {\n",
       "        text-align: right;\n",
       "    }\n",
       "</style>\n",
       "<table border=\"1\" class=\"dataframe\">\n",
       "  <thead>\n",
       "    <tr style=\"text-align: right;\">\n",
       "      <th></th>\n",
       "      <th>Model</th>\n",
       "      <th>Accuracy_Training_Set</th>\n",
       "      <th>Accuracy_Test_Set</th>\n",
       "      <th>Precision</th>\n",
       "      <th>Recall</th>\n",
       "      <th>f1_score</th>\n",
       "    </tr>\n",
       "  </thead>\n",
       "  <tbody>\n",
       "    <tr>\n",
       "      <th>0</th>\n",
       "      <td>RandomForestClassifier()</td>\n",
       "      <td>1.0</td>\n",
       "      <td>0.942</td>\n",
       "      <td>0.942</td>\n",
       "      <td>0.942</td>\n",
       "      <td>0.942</td>\n",
       "    </tr>\n",
       "  </tbody>\n",
       "</table>\n",
       "</div>"
      ],
      "text/plain": [
       "                      Model  Accuracy_Training_Set  Accuracy_Test_Set  \\\n",
       "0  RandomForestClassifier()                    1.0              0.942   \n",
       "\n",
       "   Precision  Recall  f1_score  \n",
       "0      0.942   0.942     0.942  "
      ]
     },
     "execution_count": 45,
     "metadata": {},
     "output_type": "execute_result"
    }
   ],
   "source": [
    "df1_perf_metrics"
   ]
  },
  {
   "cell_type": "code",
   "execution_count": 46,
   "id": "2dd7e099",
   "metadata": {},
   "outputs": [
    {
     "data": {
      "text/plain": [
       "array([3, 0, 0, ..., 3, 1, 2], dtype=int64)"
      ]
     },
     "execution_count": 46,
     "metadata": {},
     "output_type": "execute_result"
    }
   ],
   "source": [
    "# lets perform predictions on testing data\n",
    "pred = model.predict(X_test)\n",
    "pred"
   ]
  },
  {
   "cell_type": "markdown",
   "id": "823dfab3",
   "metadata": {},
   "source": [
    "#### Prediction on test dataset\n",
    "\n",
    "- we will import test dataset having no class feature\n",
    "- we will feed it to the model for testing"
   ]
  },
  {
   "cell_type": "code",
   "execution_count": 48,
   "id": "cfd51581",
   "metadata": {},
   "outputs": [
    {
     "data": {
      "text/html": [
       "<div>\n",
       "<style scoped>\n",
       "    .dataframe tbody tr th:only-of-type {\n",
       "        vertical-align: middle;\n",
       "    }\n",
       "\n",
       "    .dataframe tbody tr th {\n",
       "        vertical-align: top;\n",
       "    }\n",
       "\n",
       "    .dataframe thead th {\n",
       "        text-align: right;\n",
       "    }\n",
       "</style>\n",
       "<table border=\"1\" class=\"dataframe\">\n",
       "  <thead>\n",
       "    <tr style=\"text-align: right;\">\n",
       "      <th></th>\n",
       "      <th>Accelerometer_1 X axis</th>\n",
       "      <th>Accelerometer_1 Y axis</th>\n",
       "      <th>Accelerometer_1 Z axis</th>\n",
       "      <th>Gyroscope_1 X axis</th>\n",
       "      <th>Gyroscope_1 Y axis</th>\n",
       "      <th>Gyroscope_1 Z axis</th>\n",
       "      <th>Accelerometer_2 X axis</th>\n",
       "      <th>Accelerometer_2 Y axis</th>\n",
       "      <th>Accelerometer_2 Z axis</th>\n",
       "      <th>Gyroscope2_X axis</th>\n",
       "      <th>Gyroscope2_Y axis</th>\n",
       "      <th>Gyroscope2_Z axis</th>\n",
       "    </tr>\n",
       "  </thead>\n",
       "  <tbody>\n",
       "    <tr>\n",
       "      <th>0</th>\n",
       "      <td>0.21</td>\n",
       "      <td>0.93</td>\n",
       "      <td>0.14</td>\n",
       "      <td>3.96</td>\n",
       "      <td>0.93</td>\n",
       "      <td>3.64</td>\n",
       "      <td>0.46</td>\n",
       "      <td>0.13</td>\n",
       "      <td>3.44</td>\n",
       "      <td>3.94</td>\n",
       "      <td>2.98</td>\n",
       "      <td>1.64</td>\n",
       "    </tr>\n",
       "    <tr>\n",
       "      <th>1</th>\n",
       "      <td>0.02</td>\n",
       "      <td>0.96</td>\n",
       "      <td>0.12</td>\n",
       "      <td>3.96</td>\n",
       "      <td>0.99</td>\n",
       "      <td>3.48</td>\n",
       "      <td>0.68</td>\n",
       "      <td>3.71</td>\n",
       "      <td>0.14</td>\n",
       "      <td>3.94</td>\n",
       "      <td>2.93</td>\n",
       "      <td>1.38</td>\n",
       "    </tr>\n",
       "    <tr>\n",
       "      <th>2</th>\n",
       "      <td>3.90</td>\n",
       "      <td>0.96</td>\n",
       "      <td>3.99</td>\n",
       "      <td>3.96</td>\n",
       "      <td>1.06</td>\n",
       "      <td>3.44</td>\n",
       "      <td>0.73</td>\n",
       "      <td>3.68</td>\n",
       "      <td>0.38</td>\n",
       "      <td>3.94</td>\n",
       "      <td>3.08</td>\n",
       "      <td>1.29</td>\n",
       "    </tr>\n",
       "    <tr>\n",
       "      <th>3</th>\n",
       "      <td>3.80</td>\n",
       "      <td>0.96</td>\n",
       "      <td>3.85</td>\n",
       "      <td>3.96</td>\n",
       "      <td>1.16</td>\n",
       "      <td>3.42</td>\n",
       "      <td>0.51</td>\n",
       "      <td>3.98</td>\n",
       "      <td>0.85</td>\n",
       "      <td>3.94</td>\n",
       "      <td>2.93</td>\n",
       "      <td>1.20</td>\n",
       "    </tr>\n",
       "    <tr>\n",
       "      <th>4</th>\n",
       "      <td>3.73</td>\n",
       "      <td>0.89</td>\n",
       "      <td>3.67</td>\n",
       "      <td>3.96</td>\n",
       "      <td>1.03</td>\n",
       "      <td>3.44</td>\n",
       "      <td>0.46</td>\n",
       "      <td>3.72</td>\n",
       "      <td>0.72</td>\n",
       "      <td>3.94</td>\n",
       "      <td>3.14</td>\n",
       "      <td>1.19</td>\n",
       "    </tr>\n",
       "  </tbody>\n",
       "</table>\n",
       "</div>"
      ],
      "text/plain": [
       "    Accelerometer_1 X axis   Accelerometer_1 Y axis   Accelerometer_1 Z axis  \\\n",
       "0                     0.21                     0.93                     0.14   \n",
       "1                     0.02                     0.96                     0.12   \n",
       "2                     3.90                     0.96                     3.99   \n",
       "3                     3.80                     0.96                     3.85   \n",
       "4                     3.73                     0.89                     3.67   \n",
       "\n",
       "   Gyroscope_1 X axis  Gyroscope_1 Y axis  Gyroscope_1 Z axis  \\\n",
       "0                3.96                0.93                3.64   \n",
       "1                3.96                0.99                3.48   \n",
       "2                3.96                1.06                3.44   \n",
       "3                3.96                1.16                3.42   \n",
       "4                3.96                1.03                3.44   \n",
       "\n",
       "    Accelerometer_2 X axis   Accelerometer_2 Y axis   Accelerometer_2 Z axis  \\\n",
       "0                     0.46                     0.13                     3.44   \n",
       "1                     0.68                     3.71                     0.14   \n",
       "2                     0.73                     3.68                     0.38   \n",
       "3                     0.51                     3.98                     0.85   \n",
       "4                     0.46                     3.72                     0.72   \n",
       "\n",
       "   Gyroscope2_X axis  Gyroscope2_Y axis  Gyroscope2_Z axis  \n",
       "0               3.94               2.98               1.64  \n",
       "1               3.94               2.93               1.38  \n",
       "2               3.94               3.08               1.29  \n",
       "3               3.94               2.93               1.20  \n",
       "4               3.94               3.14               1.19  "
      ]
     },
     "execution_count": 48,
     "metadata": {},
     "output_type": "execute_result"
    }
   ],
   "source": [
    "test = pd.read_csv('test.csv')\n",
    "test.head()"
   ]
  },
  {
   "cell_type": "code",
   "execution_count": 49,
   "id": "8bc78e8d",
   "metadata": {},
   "outputs": [
    {
     "data": {
      "text/plain": [
       "array([0, 0, 0, 0, 0, 0, 0, 0, 0, 1, 0, 0, 0, 0, 0, 1, 0, 0, 2, 0, 0, 0,\n",
       "       0, 0, 0, 0, 0, 0, 0, 0, 0, 2, 0, 2, 0, 0, 0, 0, 2, 0, 0, 0, 0, 0,\n",
       "       2, 0, 0, 0, 0, 0, 0, 0, 0, 0, 0, 0, 0, 0, 0, 0, 0, 0, 0, 0, 0, 0,\n",
       "       0, 0, 0, 0, 0, 0, 0, 0, 0, 0, 0, 0, 0, 0, 0, 0, 0, 0, 0, 0, 0, 0,\n",
       "       0, 0, 0, 0, 0, 0, 0, 0, 0, 0, 0, 0, 0, 0, 0, 0, 0, 0, 0, 0, 0, 0,\n",
       "       0, 0, 0, 0, 0, 0, 0, 0, 0, 0, 0, 0, 0, 0, 0, 0, 0, 0, 0, 0, 0, 0,\n",
       "       0, 0, 0, 0, 0, 0, 0, 0, 0, 0, 0, 0, 0, 0, 0, 0, 0, 0, 0, 0, 0, 0,\n",
       "       0, 0, 0, 0, 0, 0, 0, 0, 0, 0, 0, 0, 0, 0, 0, 0, 0, 0, 0, 0, 0, 0,\n",
       "       0, 0, 0, 0, 0, 0, 0, 0, 0, 0, 0, 0, 0, 0, 0, 0, 0, 0, 0, 0, 0, 0,\n",
       "       0, 0, 0, 0, 0, 0, 0, 0, 0, 0, 0, 0, 0, 0, 0, 0, 0, 0, 0, 0, 0, 0,\n",
       "       0, 0, 0, 0, 0, 0, 0, 0, 0, 0, 0, 0, 0, 0, 0, 0, 0, 0, 0, 0, 0, 0,\n",
       "       0, 0, 0, 0, 0, 0, 0, 0, 0, 1, 1, 1, 1, 1, 1, 1, 1, 1, 1, 1, 1, 1,\n",
       "       1, 1, 1, 1, 1, 1, 1, 1, 1, 2, 1, 1, 1, 1, 1, 1, 1, 1, 1, 1, 1, 1,\n",
       "       1, 1, 1, 2, 2, 1, 1, 1, 1, 1, 1, 1, 1, 1, 1, 1, 1, 1, 1, 1, 1, 1,\n",
       "       1, 1, 1, 1, 1, 1, 1, 1, 1, 1, 1, 2, 1, 1, 1, 1, 1, 1, 1, 1, 1, 1,\n",
       "       1, 1, 1, 1, 1, 1, 1, 1, 1, 1, 1, 1, 1, 1, 1, 1, 1, 1, 1, 1, 1, 1,\n",
       "       1, 1, 1, 1, 1, 1, 1, 1, 1, 1, 1, 1, 1, 1, 1, 1, 1, 1, 1, 1, 1, 1,\n",
       "       1, 1, 1, 1, 1, 1, 1, 1, 1, 1, 1, 1, 1, 1, 1, 1, 1, 1, 1, 1, 1, 1,\n",
       "       1, 1, 1, 1, 1, 1, 1, 1, 1, 1, 1, 3, 2, 2, 2, 2, 2, 2, 2, 2, 2, 2,\n",
       "       2, 2, 2, 2, 2, 2, 2, 2, 2, 2, 2, 2, 2, 2, 2, 2, 2, 2, 2, 2, 2, 2,\n",
       "       2, 2, 2, 2, 2, 2, 2, 2, 2, 2, 2, 2, 2, 2, 2, 2, 2, 2, 2, 2, 2, 2,\n",
       "       2, 1, 1, 2, 2, 2, 2, 1, 2, 2, 2, 2, 2, 2, 2, 2, 2, 2, 2, 2, 2, 2,\n",
       "       2, 2, 2, 2, 2, 2, 2, 2, 2, 2, 2, 2, 2, 2, 2, 2, 2, 2, 2, 2, 2, 2,\n",
       "       2, 2, 2, 2, 2, 2, 2, 2, 2, 2, 2, 2, 2, 2, 2, 2, 2, 2, 2, 1, 1, 2,\n",
       "       2, 2, 2, 2, 2, 2, 2, 2, 2, 2, 2, 2, 2, 2, 3, 3, 2, 2, 3, 2, 2, 2,\n",
       "       2, 2, 2, 2, 2, 2, 2, 2, 2, 2, 2, 2, 2, 2, 2, 2, 2, 2, 2, 2, 2, 2,\n",
       "       2, 2, 2, 2, 2, 2, 2, 2, 2, 2, 2, 2, 2, 2, 2, 2, 2, 2, 2, 2, 3, 2,\n",
       "       2, 2, 3, 2, 2, 2, 2, 2, 2, 2, 2, 2, 2, 2, 2, 2, 2, 2, 2, 2, 2, 2,\n",
       "       2, 2, 2, 2, 2, 2, 2, 2, 2, 2, 2, 2, 1, 2, 2, 2, 2, 2, 2, 2, 2, 2,\n",
       "       2, 2, 2, 2, 2, 2, 2, 2, 2, 2, 2, 2, 2, 2], dtype=int64)"
      ]
     },
     "execution_count": 49,
     "metadata": {},
     "output_type": "execute_result"
    }
   ],
   "source": [
    "model.predict(test)"
   ]
  }
 ],
 "metadata": {
  "kernelspec": {
   "display_name": "Python 3",
   "language": "python",
   "name": "python3"
  },
  "language_info": {
   "codemirror_mode": {
    "name": "ipython",
    "version": 3
   },
   "file_extension": ".py",
   "mimetype": "text/x-python",
   "name": "python",
   "nbconvert_exporter": "python",
   "pygments_lexer": "ipython3",
   "version": "3.8.8"
  }
 },
 "nbformat": 4,
 "nbformat_minor": 5
}
